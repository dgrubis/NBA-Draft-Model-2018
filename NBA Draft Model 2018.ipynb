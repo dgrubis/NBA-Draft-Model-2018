{
 "cells": [
  {
   "cell_type": "code",
   "execution_count": 4834,
   "metadata": {
    "collapsed": true
   },
   "outputs": [],
   "source": [
    "import pandas as pd\n",
    "import sklearn.model_selection as model_selection\n",
    "from sklearn.linear_model import LinearRegression\n",
    "from sklearn.linear_model import Ridge\n",
    "from sklearn import linear_model\n",
    "from sklearn.svm import SVR\n",
    "from sklearn.model_selection import train_test_split\n",
    "from sklearn import preprocessing\n",
    "from sklearn import metrics\n",
    "from sklearn.neural_network import MLPRegressor\n",
    "from sklearn.model_selection import cross_val_predict, cross_validate\n",
    "from sklearn.preprocessing import StandardScaler\n",
    "import matplotlib.pyplot as plt\n",
    "import numpy as np\n",
    "%matplotlib inline"
   ]
  },
  {
   "cell_type": "markdown",
   "metadata": {},
   "source": [
    "# Data Cleaning"
   ]
  },
  {
   "cell_type": "code",
   "execution_count": 4835,
   "metadata": {},
   "outputs": [
    {
     "data": {
      "text/html": [
       "<div>\n",
       "<style>\n",
       "    .dataframe thead tr:only-child th {\n",
       "        text-align: right;\n",
       "    }\n",
       "\n",
       "    .dataframe thead th {\n",
       "        text-align: left;\n",
       "    }\n",
       "\n",
       "    .dataframe tbody tr th {\n",
       "        vertical-align: top;\n",
       "    }\n",
       "</style>\n",
       "<table border=\"1\" class=\"dataframe\">\n",
       "  <thead>\n",
       "    <tr style=\"text-align: right;\">\n",
       "      <th></th>\n",
       "      <th>Player</th>\n",
       "      <th>Team_x</th>\n",
       "      <th>GP</th>\n",
       "      <th>MPG</th>\n",
       "      <th>FGM</th>\n",
       "      <th>FGA</th>\n",
       "      <th>FG%</th>\n",
       "      <th>3PM</th>\n",
       "      <th>3PA</th>\n",
       "      <th>3P%</th>\n",
       "      <th>...</th>\n",
       "      <th>Standing Vertical</th>\n",
       "      <th>Max Vertical Leap</th>\n",
       "      <th>Max Bench Press</th>\n",
       "      <th>Body Fat Percentage</th>\n",
       "      <th>Hand Length</th>\n",
       "      <th>Hand Width</th>\n",
       "      <th>Heightw/oshoesinches</th>\n",
       "      <th>Heightw/shoesinches</th>\n",
       "      <th>Standing_Reach_inches</th>\n",
       "      <th>Wingspan_inches</th>\n",
       "    </tr>\n",
       "  </thead>\n",
       "  <tbody>\n",
       "    <tr>\n",
       "      <th>0</th>\n",
       "      <td>Andre Roberson</td>\n",
       "      <td>CU</td>\n",
       "      <td>36</td>\n",
       "      <td>30.2</td>\n",
       "      <td>4.1</td>\n",
       "      <td>8.1</td>\n",
       "      <td>0.510</td>\n",
       "      <td>0.5</td>\n",
       "      <td>1.4</td>\n",
       "      <td>0.380</td>\n",
       "      <td>...</td>\n",
       "      <td>30</td>\n",
       "      <td>36.5</td>\n",
       "      <td>10</td>\n",
       "      <td>0.0705</td>\n",
       "      <td>8.75</td>\n",
       "      <td>9.5</td>\n",
       "      <td>78.25</td>\n",
       "      <td>79.00</td>\n",
       "      <td>104.5</td>\n",
       "      <td>83.0</td>\n",
       "    </tr>\n",
       "    <tr>\n",
       "      <th>1</th>\n",
       "      <td>Lavoy Allen</td>\n",
       "      <td>TEM</td>\n",
       "      <td>33</td>\n",
       "      <td>33.9</td>\n",
       "      <td>4.7</td>\n",
       "      <td>9.7</td>\n",
       "      <td>0.480</td>\n",
       "      <td>0.2</td>\n",
       "      <td>0.5</td>\n",
       "      <td>0.294</td>\n",
       "      <td>...</td>\n",
       "      <td>NaN</td>\n",
       "      <td>NaN</td>\n",
       "      <td>NaN</td>\n",
       "      <td>NaN</td>\n",
       "      <td>NaN</td>\n",
       "      <td>NaN</td>\n",
       "      <td>NaN</td>\n",
       "      <td>NaN</td>\n",
       "      <td>NaN</td>\n",
       "      <td>NaN</td>\n",
       "    </tr>\n",
       "    <tr>\n",
       "      <th>2</th>\n",
       "      <td>Vernon Macklin</td>\n",
       "      <td>UF</td>\n",
       "      <td>37</td>\n",
       "      <td>24.5</td>\n",
       "      <td>5.2</td>\n",
       "      <td>8.7</td>\n",
       "      <td>0.593</td>\n",
       "      <td>0.0</td>\n",
       "      <td>0.0</td>\n",
       "      <td>0.000</td>\n",
       "      <td>...</td>\n",
       "      <td>NaN</td>\n",
       "      <td>NaN</td>\n",
       "      <td>NaN</td>\n",
       "      <td>NaN</td>\n",
       "      <td>NaN</td>\n",
       "      <td>NaN</td>\n",
       "      <td>NaN</td>\n",
       "      <td>NaN</td>\n",
       "      <td>NaN</td>\n",
       "      <td>NaN</td>\n",
       "    </tr>\n",
       "    <tr>\n",
       "      <th>3</th>\n",
       "      <td>Ryan Kelly</td>\n",
       "      <td>DUKE</td>\n",
       "      <td>31</td>\n",
       "      <td>25.9</td>\n",
       "      <td>3.5</td>\n",
       "      <td>7.8</td>\n",
       "      <td>0.444</td>\n",
       "      <td>1.3</td>\n",
       "      <td>3.2</td>\n",
       "      <td>0.408</td>\n",
       "      <td>...</td>\n",
       "      <td>-</td>\n",
       "      <td>-</td>\n",
       "      <td>-</td>\n",
       "      <td>0.1475</td>\n",
       "      <td>9</td>\n",
       "      <td>10</td>\n",
       "      <td>81.75</td>\n",
       "      <td>83.75</td>\n",
       "      <td>110.0</td>\n",
       "      <td>83.5</td>\n",
       "    </tr>\n",
       "    <tr>\n",
       "      <th>4</th>\n",
       "      <td>Michael Kidd-Gilchrist</td>\n",
       "      <td>UK</td>\n",
       "      <td>40</td>\n",
       "      <td>31.1</td>\n",
       "      <td>4.0</td>\n",
       "      <td>8.2</td>\n",
       "      <td>0.491</td>\n",
       "      <td>0.3</td>\n",
       "      <td>1.3</td>\n",
       "      <td>0.255</td>\n",
       "      <td>...</td>\n",
       "      <td>32</td>\n",
       "      <td>35.5</td>\n",
       "      <td>6</td>\n",
       "      <td>0.07</td>\n",
       "      <td>9</td>\n",
       "      <td>10.25</td>\n",
       "      <td>77.75</td>\n",
       "      <td>79.50</td>\n",
       "      <td>104.5</td>\n",
       "      <td>84.0</td>\n",
       "    </tr>\n",
       "  </tbody>\n",
       "</table>\n",
       "<p>5 rows × 60 columns</p>\n",
       "</div>"
      ],
      "text/plain": [
       "                   Player Team_x  GP   MPG  FGM  FGA    FG%  3PM  3PA    3P%  \\\n",
       "0          Andre Roberson     CU  36  30.2  4.1  8.1  0.510  0.5  1.4  0.380   \n",
       "1             Lavoy Allen    TEM  33  33.9  4.7  9.7  0.480  0.2  0.5  0.294   \n",
       "2          Vernon Macklin     UF  37  24.5  5.2  8.7  0.593  0.0  0.0  0.000   \n",
       "3              Ryan Kelly   DUKE  31  25.9  3.5  7.8  0.444  1.3  3.2  0.408   \n",
       "4  Michael Kidd-Gilchrist     UK  40  31.1  4.0  8.2  0.491  0.3  1.3  0.255   \n",
       "\n",
       "        ...         Standing Vertical  Max Vertical Leap  Max Bench Press  \\\n",
       "0       ...                        30               36.5               10   \n",
       "1       ...                       NaN                NaN              NaN   \n",
       "2       ...                       NaN                NaN              NaN   \n",
       "3       ...                         -                  -                -   \n",
       "4       ...                        32               35.5                6   \n",
       "\n",
       "   Body Fat Percentage  Hand Length  Hand Width  Heightw/oshoesinches  \\\n",
       "0               0.0705         8.75         9.5                 78.25   \n",
       "1                  NaN          NaN         NaN                   NaN   \n",
       "2                  NaN          NaN         NaN                   NaN   \n",
       "3               0.1475            9          10                 81.75   \n",
       "4                 0.07            9       10.25                 77.75   \n",
       "\n",
       "   Heightw/shoesinches  Standing_Reach_inches  Wingspan_inches  \n",
       "0                79.00                  104.5             83.0  \n",
       "1                  NaN                    NaN              NaN  \n",
       "2                  NaN                    NaN              NaN  \n",
       "3                83.75                  110.0             83.5  \n",
       "4                79.50                  104.5             84.0  \n",
       "\n",
       "[5 rows x 60 columns]"
      ]
     },
     "execution_count": 4835,
     "metadata": {},
     "output_type": "execute_result"
    }
   ],
   "source": [
    "data = pd.read_csv('/Users/dgrubis/Desktop/STATS 535/all_college_data.csv')\n",
    "data.head()"
   ]
  },
  {
   "cell_type": "code",
   "execution_count": 4836,
   "metadata": {
    "collapsed": true
   },
   "outputs": [],
   "source": [
    "#Drop any players who don't have advanced college stats\n",
    "data = data.dropna(subset = ['PER'])"
   ]
  },
  {
   "cell_type": "code",
   "execution_count": 4837,
   "metadata": {
    "collapsed": true
   },
   "outputs": [],
   "source": [
    "#Next series of cells deal with the numerous nulls by filling them in with the averages of the feature\n",
    "#Not ideal but allows us to still consider these features where this happens(in this case is alot)\n",
    "data.Pick = data.Pick.fillna(61)\n",
    "data.Pos = data.Pos.fillna('')\n",
    "data.Weight = data.Weight.fillna(data.Weight.mean())\n",
    "data.Age = data.Age.fillna(data.Age.mean())\n",
    "data['Pre-Draft Team'] = data['Pre-Draft Team'].fillna('')"
   ]
  },
  {
   "cell_type": "code",
   "execution_count": 4838,
   "metadata": {
    "collapsed": true
   },
   "outputs": [],
   "source": [
    "data['Agility'] = pd.to_numeric(data['Agility'], errors='coerce')\n",
    "data['Agility'] = data['Agility'].fillna(data['Agility'].mean())"
   ]
  },
  {
   "cell_type": "code",
   "execution_count": 4839,
   "metadata": {
    "collapsed": true
   },
   "outputs": [],
   "source": [
    "data['Shuttle Run'] = pd.to_numeric(data['Shuttle Run'], errors='coerce')\n",
    "data['Shuttle Run'] = data['Shuttle Run'].fillna(data['Shuttle Run'].mean())"
   ]
  },
  {
   "cell_type": "code",
   "execution_count": 4840,
   "metadata": {
    "collapsed": true
   },
   "outputs": [],
   "source": [
    "data['Sprint'] = pd.to_numeric(data['Sprint'], errors='coerce')\n",
    "data['Sprint'] = data['Sprint'].fillna(data['Sprint'].mean())"
   ]
  },
  {
   "cell_type": "code",
   "execution_count": 4841,
   "metadata": {
    "collapsed": true
   },
   "outputs": [],
   "source": [
    "data['Standing Vertical'] = pd.to_numeric(data['Standing Vertical'], errors='coerce')\n",
    "data['Standing Vertical'] = data['Standing Vertical'].fillna(data['Standing Vertical'].mean())"
   ]
  },
  {
   "cell_type": "code",
   "execution_count": 4842,
   "metadata": {
    "collapsed": true
   },
   "outputs": [],
   "source": [
    "data['Max Vertical Leap'] = pd.to_numeric(data['Max Vertical Leap'], errors='coerce')\n",
    "data['Max Vertical Leap'] = data['Max Vertical Leap'].fillna(data['Max Vertical Leap'].mean())"
   ]
  },
  {
   "cell_type": "code",
   "execution_count": 4843,
   "metadata": {
    "collapsed": true
   },
   "outputs": [],
   "source": [
    "data['Max Bench Press'] = pd.to_numeric(data['Max Bench Press'], errors='coerce')\n",
    "data['Max Bench Press'] = data['Max Bench Press'].fillna(data['Max Bench Press'].mean())"
   ]
  },
  {
   "cell_type": "code",
   "execution_count": 4844,
   "metadata": {
    "collapsed": true
   },
   "outputs": [],
   "source": [
    "data['Body Fat Percentage'] = pd.to_numeric(data['Body Fat Percentage'], errors='coerce')\n",
    "data['Body Fat Percentage'] = data['Body Fat Percentage'].fillna(data['Body Fat Percentage'].mean())"
   ]
  },
  {
   "cell_type": "code",
   "execution_count": 4845,
   "metadata": {
    "collapsed": true
   },
   "outputs": [],
   "source": [
    "data['Hand Length'] = pd.to_numeric(data['Hand Length'], errors='coerce')\n",
    "data['Hand Length'] = data['Hand Length'].fillna(data['Hand Length'].mean())"
   ]
  },
  {
   "cell_type": "code",
   "execution_count": 4846,
   "metadata": {
    "collapsed": true
   },
   "outputs": [],
   "source": [
    "data['Hand Width'] = pd.to_numeric(data['Hand Width'], errors='coerce')\n",
    "data['Hand Width'] = data['Hand Width'].fillna(data['Hand Width'].mean())"
   ]
  },
  {
   "cell_type": "code",
   "execution_count": 4847,
   "metadata": {
    "collapsed": true
   },
   "outputs": [],
   "source": [
    "data['Weight'] = data['Weight'].fillna(data['Weight'].mean())"
   ]
  },
  {
   "cell_type": "code",
   "execution_count": 4848,
   "metadata": {
    "collapsed": true
   },
   "outputs": [],
   "source": [
    "data['Heightw/oshoesinches'] = data['Heightw/oshoesinches'].fillna(data['Heightw/oshoesinches'].mean())"
   ]
  },
  {
   "cell_type": "code",
   "execution_count": 4849,
   "metadata": {
    "collapsed": true
   },
   "outputs": [],
   "source": [
    "data['Heightw/shoesinches'] = data['Heightw/shoesinches'].fillna(data['Heightw/shoesinches'].mean())"
   ]
  },
  {
   "cell_type": "code",
   "execution_count": 4850,
   "metadata": {
    "collapsed": true
   },
   "outputs": [],
   "source": [
    "data['Standing_Reach_inches'] = data['Standing_Reach_inches'].fillna(data['Standing_Reach_inches'].mean())"
   ]
  },
  {
   "cell_type": "code",
   "execution_count": 4851,
   "metadata": {
    "collapsed": true
   },
   "outputs": [],
   "source": [
    "data['Wingspan_inches'] = data['Wingspan_inches'].fillna(data['Wingspan_inches'].mean())"
   ]
  },
  {
   "cell_type": "code",
   "execution_count": 4852,
   "metadata": {},
   "outputs": [
    {
     "data": {
      "text/html": [
       "<div>\n",
       "<style>\n",
       "    .dataframe thead tr:only-child th {\n",
       "        text-align: right;\n",
       "    }\n",
       "\n",
       "    .dataframe thead th {\n",
       "        text-align: left;\n",
       "    }\n",
       "\n",
       "    .dataframe tbody tr th {\n",
       "        vertical-align: top;\n",
       "    }\n",
       "</style>\n",
       "<table border=\"1\" class=\"dataframe\">\n",
       "  <thead>\n",
       "    <tr style=\"text-align: right;\">\n",
       "      <th></th>\n",
       "      <th>Player</th>\n",
       "      <th>Team_x</th>\n",
       "      <th>GP</th>\n",
       "      <th>MPG</th>\n",
       "      <th>FGM</th>\n",
       "      <th>FGA</th>\n",
       "      <th>FG%</th>\n",
       "      <th>3PM</th>\n",
       "      <th>3PA</th>\n",
       "      <th>3P%</th>\n",
       "      <th>...</th>\n",
       "      <th>Standing Vertical</th>\n",
       "      <th>Max Vertical Leap</th>\n",
       "      <th>Max Bench Press</th>\n",
       "      <th>Body Fat Percentage</th>\n",
       "      <th>Hand Length</th>\n",
       "      <th>Hand Width</th>\n",
       "      <th>Heightw/oshoesinches</th>\n",
       "      <th>Heightw/shoesinches</th>\n",
       "      <th>Standing_Reach_inches</th>\n",
       "      <th>Wingspan_inches</th>\n",
       "    </tr>\n",
       "  </thead>\n",
       "  <tbody>\n",
       "    <tr>\n",
       "      <th>0</th>\n",
       "      <td>Andre Roberson</td>\n",
       "      <td>CU</td>\n",
       "      <td>36</td>\n",
       "      <td>30.2</td>\n",
       "      <td>4.1</td>\n",
       "      <td>8.1</td>\n",
       "      <td>0.510</td>\n",
       "      <td>0.5</td>\n",
       "      <td>1.4</td>\n",
       "      <td>0.380</td>\n",
       "      <td>...</td>\n",
       "      <td>30.00000</td>\n",
       "      <td>36.500000</td>\n",
       "      <td>10.000000</td>\n",
       "      <td>0.070500</td>\n",
       "      <td>8.750000</td>\n",
       "      <td>9.500000</td>\n",
       "      <td>78.250000</td>\n",
       "      <td>79.000000</td>\n",
       "      <td>104.500000</td>\n",
       "      <td>83.000000</td>\n",
       "    </tr>\n",
       "    <tr>\n",
       "      <th>1</th>\n",
       "      <td>Lavoy Allen</td>\n",
       "      <td>TEM</td>\n",
       "      <td>33</td>\n",
       "      <td>33.9</td>\n",
       "      <td>4.7</td>\n",
       "      <td>9.7</td>\n",
       "      <td>0.480</td>\n",
       "      <td>0.2</td>\n",
       "      <td>0.5</td>\n",
       "      <td>0.294</td>\n",
       "      <td>...</td>\n",
       "      <td>29.65625</td>\n",
       "      <td>34.804075</td>\n",
       "      <td>11.380192</td>\n",
       "      <td>0.071527</td>\n",
       "      <td>8.795455</td>\n",
       "      <td>9.529221</td>\n",
       "      <td>77.673469</td>\n",
       "      <td>78.996875</td>\n",
       "      <td>103.656706</td>\n",
       "      <td>82.563517</td>\n",
       "    </tr>\n",
       "    <tr>\n",
       "      <th>2</th>\n",
       "      <td>Vernon Macklin</td>\n",
       "      <td>UF</td>\n",
       "      <td>37</td>\n",
       "      <td>24.5</td>\n",
       "      <td>5.2</td>\n",
       "      <td>8.7</td>\n",
       "      <td>0.593</td>\n",
       "      <td>0.0</td>\n",
       "      <td>0.0</td>\n",
       "      <td>0.000</td>\n",
       "      <td>...</td>\n",
       "      <td>29.65625</td>\n",
       "      <td>34.804075</td>\n",
       "      <td>11.380192</td>\n",
       "      <td>0.071527</td>\n",
       "      <td>8.795455</td>\n",
       "      <td>9.529221</td>\n",
       "      <td>77.673469</td>\n",
       "      <td>78.996875</td>\n",
       "      <td>103.656706</td>\n",
       "      <td>82.563517</td>\n",
       "    </tr>\n",
       "    <tr>\n",
       "      <th>3</th>\n",
       "      <td>Ryan Kelly</td>\n",
       "      <td>DUKE</td>\n",
       "      <td>31</td>\n",
       "      <td>25.9</td>\n",
       "      <td>3.5</td>\n",
       "      <td>7.8</td>\n",
       "      <td>0.444</td>\n",
       "      <td>1.3</td>\n",
       "      <td>3.2</td>\n",
       "      <td>0.408</td>\n",
       "      <td>...</td>\n",
       "      <td>29.65625</td>\n",
       "      <td>34.804075</td>\n",
       "      <td>11.380192</td>\n",
       "      <td>0.147500</td>\n",
       "      <td>9.000000</td>\n",
       "      <td>10.000000</td>\n",
       "      <td>81.750000</td>\n",
       "      <td>83.750000</td>\n",
       "      <td>110.000000</td>\n",
       "      <td>83.500000</td>\n",
       "    </tr>\n",
       "    <tr>\n",
       "      <th>4</th>\n",
       "      <td>Michael Kidd-Gilchrist</td>\n",
       "      <td>UK</td>\n",
       "      <td>40</td>\n",
       "      <td>31.1</td>\n",
       "      <td>4.0</td>\n",
       "      <td>8.2</td>\n",
       "      <td>0.491</td>\n",
       "      <td>0.3</td>\n",
       "      <td>1.3</td>\n",
       "      <td>0.255</td>\n",
       "      <td>...</td>\n",
       "      <td>32.00000</td>\n",
       "      <td>35.500000</td>\n",
       "      <td>6.000000</td>\n",
       "      <td>0.070000</td>\n",
       "      <td>9.000000</td>\n",
       "      <td>10.250000</td>\n",
       "      <td>77.750000</td>\n",
       "      <td>79.500000</td>\n",
       "      <td>104.500000</td>\n",
       "      <td>84.000000</td>\n",
       "    </tr>\n",
       "  </tbody>\n",
       "</table>\n",
       "<p>5 rows × 60 columns</p>\n",
       "</div>"
      ],
      "text/plain": [
       "                   Player Team_x  GP   MPG  FGM  FGA    FG%  3PM  3PA    3P%  \\\n",
       "0          Andre Roberson     CU  36  30.2  4.1  8.1  0.510  0.5  1.4  0.380   \n",
       "1             Lavoy Allen    TEM  33  33.9  4.7  9.7  0.480  0.2  0.5  0.294   \n",
       "2          Vernon Macklin     UF  37  24.5  5.2  8.7  0.593  0.0  0.0  0.000   \n",
       "3              Ryan Kelly   DUKE  31  25.9  3.5  7.8  0.444  1.3  3.2  0.408   \n",
       "4  Michael Kidd-Gilchrist     UK  40  31.1  4.0  8.2  0.491  0.3  1.3  0.255   \n",
       "\n",
       "        ...         Standing Vertical  Max Vertical Leap  Max Bench Press  \\\n",
       "0       ...                  30.00000          36.500000        10.000000   \n",
       "1       ...                  29.65625          34.804075        11.380192   \n",
       "2       ...                  29.65625          34.804075        11.380192   \n",
       "3       ...                  29.65625          34.804075        11.380192   \n",
       "4       ...                  32.00000          35.500000         6.000000   \n",
       "\n",
       "   Body Fat Percentage  Hand Length  Hand Width  Heightw/oshoesinches  \\\n",
       "0             0.070500     8.750000    9.500000             78.250000   \n",
       "1             0.071527     8.795455    9.529221             77.673469   \n",
       "2             0.071527     8.795455    9.529221             77.673469   \n",
       "3             0.147500     9.000000   10.000000             81.750000   \n",
       "4             0.070000     9.000000   10.250000             77.750000   \n",
       "\n",
       "   Heightw/shoesinches  Standing_Reach_inches  Wingspan_inches  \n",
       "0            79.000000             104.500000        83.000000  \n",
       "1            78.996875             103.656706        82.563517  \n",
       "2            78.996875             103.656706        82.563517  \n",
       "3            83.750000             110.000000        83.500000  \n",
       "4            79.500000             104.500000        84.000000  \n",
       "\n",
       "[5 rows x 60 columns]"
      ]
     },
     "execution_count": 4852,
     "metadata": {},
     "output_type": "execute_result"
    }
   ],
   "source": [
    "#Lets check out the data to see how it looks with all the nulls filled in\n",
    "data.head()"
   ]
  },
  {
   "cell_type": "markdown",
   "metadata": {
    "collapsed": true
   },
   "source": [
    "# Data Exploration"
   ]
  },
  {
   "cell_type": "code",
   "execution_count": 4853,
   "metadata": {},
   "outputs": [
    {
     "data": {
      "text/plain": [
       "<matplotlib.axes._subplots.AxesSubplot at 0x1c4636eeb8>"
      ]
     },
     "execution_count": 4853,
     "metadata": {},
     "output_type": "execute_result"
    },
    {
     "data": {
      "image/png": "[encoded data removed]",
      "text/plain": [
       "<matplotlib.figure.Figure at 0x1c42fd2b70>"
      ]
     },
     "metadata": {},
     "output_type": "display_data"
    }
   ],
   "source": [
    "#Intitial data exploring to see how some important features interact with WS\n",
    "data.plot(x = 'PER', y = 'WS', kind = 'scatter')"
   ]
  },
  {
   "cell_type": "code",
   "execution_count": 4854,
   "metadata": {},
   "outputs": [
    {
     "data": {
      "text/plain": [
       "<matplotlib.axes._subplots.AxesSubplot at 0x1c4639de10>"
      ]
     },
     "execution_count": 4854,
     "metadata": {},
     "output_type": "execute_result"
    },
    {
     "data": {
      "image/png": "[encoded data removed]",
      "text/plain": [
       "<matplotlib.figure.Figure at 0x1c42fd2978>"
      ]
     },
     "metadata": {},
     "output_type": "display_data"
    }
   ],
   "source": [
    "data.plot(x = 'ORtg', y = 'WS', kind = 'scatter')\n",
    "#Shows increasing trend and compared to DRtg below; offense more important to a high WS?"
   ]
  },
  {
   "cell_type": "code",
   "execution_count": 4855,
   "metadata": {},
   "outputs": [
    {
     "data": {
      "text/plain": [
       "<matplotlib.axes._subplots.AxesSubplot at 0x1c46157710>"
      ]
     },
     "execution_count": 4855,
     "metadata": {},
     "output_type": "execute_result"
    },
    {
     "data": {
      "image/png": "[encoded data removed]",
      "text/plain": [
       "<matplotlib.figure.Figure at 0x1c463915c0>"
      ]
     },
     "metadata": {},
     "output_type": "display_data"
    }
   ],
   "source": [
    "data.plot(x = 'DRtg', y = 'WS', kind = 'scatter')\n",
    "#Interesting plot on how defensive rating impacts WS\n",
    "#No defensive studs sporting a high WS"
   ]
  },
  {
   "cell_type": "code",
   "execution_count": 4856,
   "metadata": {},
   "outputs": [
    {
     "data": {
      "text/plain": [
       "<matplotlib.axes._subplots.AxesSubplot at 0x1c42f6c7b8>"
      ]
     },
     "execution_count": 4856,
     "metadata": {},
     "output_type": "execute_result"
    },
    {
     "data": {
      "image/png": "[encoded data removed]",
      "text/plain": [
       "<matplotlib.figure.Figure at 0x1c467610b8>"
      ]
     },
     "metadata": {},
     "output_type": "display_data"
    }
   ],
   "source": [
    "#See how what draft pick a player was affects the peak WS they achieved in their career\n",
    "#Pick 61 refers to undrafted players\n",
    "data.plot(x = 'Pick', y = 'WS', kind = 'scatter')"
   ]
  },
  {
   "cell_type": "code",
   "execution_count": 4857,
   "metadata": {},
   "outputs": [
    {
     "data": {
      "text/plain": [
       "<matplotlib.axes._subplots.AxesSubplot at 0x1c46828c18>"
      ]
     },
     "execution_count": 4857,
     "metadata": {},
     "output_type": "execute_result"
    },
    {
     "data": {
      "image/png": "[encoded data removed]",
      "text/plain": [
       "<matplotlib.figure.Figure at 0x1c4677b630>"
      ]
     },
     "metadata": {},
     "output_type": "display_data"
    }
   ],
   "source": [
    "data.plot(x = 'Age', y = 'WS', kind = 'scatter')"
   ]
  },
  {
   "cell_type": "markdown",
   "metadata": {},
   "source": [
    "## Model Building"
   ]
  },
  {
   "cell_type": "code",
   "execution_count": 4858,
   "metadata": {
    "collapsed": true
   },
   "outputs": [],
   "source": [
    "#my_features = ['GP', 'MPG', 'FGM', 'FGA', 'FG%', '3PM', '3PA', '3P%', 'FTM', 'FTA', 'FT%', 'TOV', 'PF', 'ORB', 'DRB', 'RPG', 'APG', 'SPG', 'BPG', 'PPG', 'TS%', 'eFG%', 'Total S %', 'ORB%', 'DRB%', 'TRB%', 'AST%', 'TOV%', 'STL%', 'BLK%', 'USG%', 'PPR', 'PPS', 'ORtg', 'DRtg', 'eDiff', 'FIC', 'PER', 'Pick', 'Weight', 'Age', 'Agility', 'Shuttle Run', 'Sprint', 'Standing Vertical', 'Max Vertical', 'Max Bench Press', 'Body Fat Percentage', 'Hand Length', 'Hand Width', 'Heightw/shoesinches', 'Standing_Reach_inches', 'Wingspan_inches']"
   ]
  },
  {
   "cell_type": "code",
   "execution_count": 4859,
   "metadata": {
    "collapsed": true
   },
   "outputs": [],
   "source": [
    "#initialize the features and target\n",
    "#38 features\n",
    "features = data.drop(['Player', 'Team_x', 'WS', 'WS/48', 'Pos', 'Pre-Draft Team', 'TOV', 'PF', 'Total S %', 'eDiff', 'FIC', 'Agility', 'Shuttle Run', 'Sprint', 'Standing Vertical', 'Max Vertical Leap', 'Max Bench Press', 'Body Fat Percentage', 'Hand Length', 'Hand Width', 'Heightw/oshoesinches', 'Standing_Reach_inches'],1)\n",
    "target = data['WS']"
   ]
  },
  {
   "cell_type": "code",
   "execution_count": 4860,
   "metadata": {
    "collapsed": true
   },
   "outputs": [],
   "source": [
    "#split the features and target into training and testing data\n",
    "features_train, features_test, target_train, target_test = train_test_split(features, target, test_size = 0.35)"
   ]
  },
  {
   "cell_type": "code",
   "execution_count": 4861,
   "metadata": {},
   "outputs": [
    {
     "data": {
      "text/plain": [
       "array([[ 0.01482797, -0.72606321, -0.28971606, ..., -2.34033553,\n",
       "         0.30799602,  0.14232376],\n",
       "       [-1.62242748, -2.02573514, -1.09872298, ...,  1.45055026,\n",
       "         0.05442627,  0.02975059],\n",
       "       [ 0.01482797,  0.62891391,  0.51929086, ..., -0.06580406,\n",
       "         0.05442627,  0.02975059],\n",
       "       ..., \n",
       "       [ 0.01482797,  0.40769315, -0.45151745, ..., -0.06580406,\n",
       "         0.05442627,  0.02975059],\n",
       "       [ 1.32463234, -1.22380991, -0.77512021, ...,  0.6923731 ,\n",
       "        -0.11286663, -0.11558612],\n",
       "       [ 0.66973016,  0.07586202,  0.0338867 , ...,  1.45055026,\n",
       "         0.05442627,  0.02975059]])"
      ]
     },
     "execution_count": 4861,
     "metadata": {},
     "output_type": "execute_result"
    }
   ],
   "source": [
    "#standardize the features\n",
    "scaler = preprocessing.StandardScaler().fit(features_train)\n",
    "scaler.transform(features_train)\n",
    "scaler.transform(features_test)"
   ]
  },
  {
   "cell_type": "code",
   "execution_count": 4862,
   "metadata": {},
   "outputs": [
    {
     "data": {
      "text/plain": [
       "MLPRegressor(activation='identity', alpha=0.0001, batch_size='auto',\n",
       "       beta_1=0.9, beta_2=0.999, early_stopping=False, epsilon=1e-08,\n",
       "       hidden_layer_sizes=(38,), learning_rate='constant',\n",
       "       learning_rate_init=0.001, max_iter=1000, momentum=0.9,\n",
       "       nesterovs_momentum=True, power_t=0.5, random_state=None,\n",
       "       shuffle=True, solver='lbfgs', tol=0.0001, validation_fraction=0.1,\n",
       "       verbose=False, warm_start=False)"
      ]
     },
     "execution_count": 4862,
     "metadata": {},
     "output_type": "execute_result"
    }
   ],
   "source": [
    "#Fit model by a multi-layer perceptron neural network using lbfgs optimization\n",
    "model_MLP = MLPRegressor(hidden_layer_sizes = (38,), activation='identity', solver='lbfgs', alpha = 0.0001, max_iter = 1000, shuffle=True)\n",
    "model_MLP.fit(features_train, target_train)"
   ]
  },
  {
   "cell_type": "code",
   "execution_count": 4863,
   "metadata": {},
   "outputs": [
    {
     "data": {
      "text/plain": [
       "Ridge(alpha=1.0, copy_X=True, fit_intercept=True, max_iter=None,\n",
       "   normalize=False, random_state=None, solver='auto', tol=0.001)"
      ]
     },
     "execution_count": 4863,
     "metadata": {},
     "output_type": "execute_result"
    }
   ],
   "source": [
    "#Fit a model by Ridge Regression\n",
    "model_ridge = Ridge(alpha=1.0)\n",
    "model_ridge.fit(features_train, target_train)"
   ]
  },
  {
   "cell_type": "code",
   "execution_count": 4864,
   "metadata": {},
   "outputs": [
    {
     "data": {
      "text/plain": [
       "SVR(C=1.0, cache_size=200, coef0=0.0, degree=3, epsilon=0.1, gamma='auto',\n",
       "  kernel='linear', max_iter=-1, shrinking=True, tol=0.001, verbose=False)"
      ]
     },
     "execution_count": 4864,
     "metadata": {},
     "output_type": "execute_result"
    }
   ],
   "source": [
    "#Fit a model by a linear SVR\n",
    "model_SVR = SVR(kernel = 'linear')\n",
    "model_SVR.fit(features_train, target_train)"
   ]
  },
  {
   "cell_type": "code",
   "execution_count": 4865,
   "metadata": {},
   "outputs": [
    {
     "data": {
      "text/plain": [
       "Lasso(alpha=1.0, copy_X=True, fit_intercept=True, max_iter=1000,\n",
       "   normalize=False, positive=False, precompute=False, random_state=None,\n",
       "   selection='cyclic', tol=0.0001, warm_start=False)"
      ]
     },
     "execution_count": 4865,
     "metadata": {},
     "output_type": "execute_result"
    }
   ],
   "source": [
    "#Fit a model by Lasso Regression\n",
    "model_lasso = linear_model.Lasso()\n",
    "model_lasso.fit(features_train, target_train)"
   ]
  },
  {
   "cell_type": "code",
   "execution_count": 4866,
   "metadata": {},
   "outputs": [
    {
     "name": "stdout",
     "output_type": "stream",
     "text": [
      "11.0749690212\n",
      "[ -3.72554187e-02  -9.05755524e-02   1.56674695e+00   2.09789120e-01\n",
      "  -9.58220730e+00   3.59495312e+00  -9.59224763e-01  -7.99242391e-01\n",
      "   1.48468234e+00  -1.57210223e-02  -5.41425972e+00  -9.54981217e-01\n",
      "  -1.72857086e-01   7.80483406e-01  -1.32468257e+00   1.98484687e+00\n",
      "  -1.56060721e+00  -7.14684640e-01   1.09737093e+01  -7.50649419e+00\n",
      "   9.82777148e-03  -4.46678324e-01   5.59966214e-01   6.08968538e-02\n",
      "   4.04558066e-01  -5.37388916e-01   4.82346454e-01  -2.11080659e-02\n",
      "   5.53083980e-01  -4.22124858e+00   1.86212373e-01  -2.83552885e-02\n",
      "  -9.96990038e-02  -9.08193252e-02   1.03727293e-02  -7.48288572e-01\n",
      "  -2.10435045e-02  -1.30919499e-02]\n"
     ]
    }
   ],
   "source": [
    "#Fit model by linear regression\n",
    "model_LR = LinearRegression()\n",
    "model_LR.fit(features_train, target_train)\n",
    "print(model_LR.intercept_)\n",
    "print(model_LR.coef_)"
   ]
  },
  {
   "cell_type": "code",
   "execution_count": 4867,
   "metadata": {
    "collapsed": true
   },
   "outputs": [],
   "source": [
    "#Predict target on testing data\n",
    "target_pred_MLP = model_MLP.predict(features_test)\n",
    "target_pred_LR = model_LR.predict(features_test)\n",
    "target_pred_ridge = model_ridge.predict(features_test)\n",
    "target_pred_SVR = model_SVR.predict(features_test)\n",
    "target_pred_lasso = model_lasso.predict(features_test)"
   ]
  },
  {
   "cell_type": "code",
   "execution_count": 4868,
   "metadata": {},
   "outputs": [
    {
     "name": "stdout",
     "output_type": "stream",
     "text": [
      "Cross-Validation score for MLP Regressor:  3.12749169082\n",
      "Cross-Validation score for Linear Regression:  3.59041197959\n",
      "Cross-Validation score for Ridge Regression:  3.11592602342\n",
      "Cross-Validation score for linear SVR:  2.96303695075\n",
      "Cross-Validation score for Lasso Regression:  2.90778178115\n"
     ]
    }
   ],
   "source": [
    "#Evaluate model by mean square error and 10-fold cross validation\n",
    "\n",
    "#print(\"MSE for MLP Regressor: \", np.sqrt(metrics.mean_squared_error(target_test, target_pred_MLP)))\n",
    "#print(\"MSE for Linear Regression: \", np.sqrt(metrics.mean_squared_error(target_test, target_pred_LR)))\n",
    "scores_MLP = cross_validate(model_MLP, features_test, target_test, cv=10, scoring='neg_mean_absolute_error', return_train_score=True)\n",
    "print(\"Cross-Validation score for MLP Regressor: \", np.mean(-1*scores_MLP['test_score']))\n",
    "\n",
    "scores_LR = cross_validate(model_LR, features_test, target_test, cv=10, scoring='neg_mean_absolute_error', return_train_score=True)\n",
    "print(\"Cross-Validation score for Linear Regression: \", np.mean(-1*scores_LR['test_score']))\n",
    "\n",
    "scores_ridge = cross_validate(model_ridge, features_test, target_test, cv=10, scoring='neg_mean_absolute_error', return_train_score=True)\n",
    "print(\"Cross-Validation score for Ridge Regression: \", np.mean(-1*scores_ridge['test_score']))\n",
    "\n",
    "scores_SVR = cross_validate(model_SVR, features_test, target_test, cv=10, scoring='neg_mean_absolute_error', return_train_score=True)\n",
    "print(\"Cross-Validation score for linear SVR: \", np.mean(-1*scores_SVR['test_score']))\n",
    "\n",
    "scores_lasso = cross_validate(model_lasso, features_test, target_test, cv=10, scoring='neg_mean_absolute_error', return_train_score=True)\n",
    "print(\"Cross-Validation score for Lasso Regression: \", np.mean(-1*scores_lasso['test_score']))"
   ]
  },
  {
   "cell_type": "markdown",
   "metadata": {
    "collapsed": true
   },
   "source": [
    "## Applying Model to 2018 Prospects"
   ]
  },
  {
   "cell_type": "code",
   "execution_count": 4869,
   "metadata": {},
   "outputs": [
    {
     "data": {
      "text/html": [
       "<div>\n",
       "<style>\n",
       "    .dataframe thead tr:only-child th {\n",
       "        text-align: right;\n",
       "    }\n",
       "\n",
       "    .dataframe thead th {\n",
       "        text-align: left;\n",
       "    }\n",
       "\n",
       "    .dataframe tbody tr th {\n",
       "        vertical-align: top;\n",
       "    }\n",
       "</style>\n",
       "<table border=\"1\" class=\"dataframe\">\n",
       "  <thead>\n",
       "    <tr style=\"text-align: right;\">\n",
       "      <th></th>\n",
       "      <th>Player</th>\n",
       "      <th>Pos</th>\n",
       "      <th>Pre-Draft Team</th>\n",
       "      <th>GP</th>\n",
       "      <th>MPG</th>\n",
       "      <th>FGM</th>\n",
       "      <th>FGA</th>\n",
       "      <th>FG%</th>\n",
       "      <th>3PM</th>\n",
       "      <th>3PA</th>\n",
       "      <th>...</th>\n",
       "      <th>PPR</th>\n",
       "      <th>PPS</th>\n",
       "      <th>ORtg</th>\n",
       "      <th>DRtg</th>\n",
       "      <th>PER</th>\n",
       "      <th>Pick</th>\n",
       "      <th>Weight</th>\n",
       "      <th>Age</th>\n",
       "      <th>Heightw/shoesinches</th>\n",
       "      <th>Wingspan_inches</th>\n",
       "    </tr>\n",
       "  </thead>\n",
       "  <tbody>\n",
       "    <tr>\n",
       "      <th>0</th>\n",
       "      <td>Deandre Ayton</td>\n",
       "      <td>C</td>\n",
       "      <td>Arizona</td>\n",
       "      <td>35</td>\n",
       "      <td>33.5</td>\n",
       "      <td>7.9</td>\n",
       "      <td>12.9</td>\n",
       "      <td>0.612</td>\n",
       "      <td>0.3</td>\n",
       "      <td>1.0</td>\n",
       "      <td>...</td>\n",
       "      <td>-2.7</td>\n",
       "      <td>1.6</td>\n",
       "      <td>130.3</td>\n",
       "      <td>97.5</td>\n",
       "      <td>30.6</td>\n",
       "      <td>1</td>\n",
       "      <td>250</td>\n",
       "      <td>19.6</td>\n",
       "      <td>85</td>\n",
       "      <td>89.0</td>\n",
       "    </tr>\n",
       "    <tr>\n",
       "      <th>1</th>\n",
       "      <td>Marvin Bagley III</td>\n",
       "      <td>PF/C</td>\n",
       "      <td>Duke</td>\n",
       "      <td>33</td>\n",
       "      <td>33.9</td>\n",
       "      <td>8.2</td>\n",
       "      <td>13.3</td>\n",
       "      <td>0.614</td>\n",
       "      <td>0.7</td>\n",
       "      <td>1.8</td>\n",
       "      <td>...</td>\n",
       "      <td>-3.7</td>\n",
       "      <td>1.6</td>\n",
       "      <td>128.1</td>\n",
       "      <td>97.5</td>\n",
       "      <td>28.3</td>\n",
       "      <td>2</td>\n",
       "      <td>225</td>\n",
       "      <td>18.9</td>\n",
       "      <td>83</td>\n",
       "      <td>84.5</td>\n",
       "    </tr>\n",
       "    <tr>\n",
       "      <th>2</th>\n",
       "      <td>Luka Doncic</td>\n",
       "      <td>PG</td>\n",
       "      <td>Real Madrid</td>\n",
       "      <td>49</td>\n",
       "      <td>24.7</td>\n",
       "      <td>4.7</td>\n",
       "      <td>10.4</td>\n",
       "      <td>0.456</td>\n",
       "      <td>1.5</td>\n",
       "      <td>4.9</td>\n",
       "      <td>...</td>\n",
       "      <td>4.2</td>\n",
       "      <td>1.5</td>\n",
       "      <td>124.2</td>\n",
       "      <td>106.2</td>\n",
       "      <td>25.4</td>\n",
       "      <td>3</td>\n",
       "      <td>220</td>\n",
       "      <td>19.0</td>\n",
       "      <td>80</td>\n",
       "      <td>NaN</td>\n",
       "    </tr>\n",
       "    <tr>\n",
       "      <th>3</th>\n",
       "      <td>Jaren Jackson Jr.</td>\n",
       "      <td>PF/C</td>\n",
       "      <td>Michigan State</td>\n",
       "      <td>35</td>\n",
       "      <td>21.8</td>\n",
       "      <td>3.4</td>\n",
       "      <td>6.6</td>\n",
       "      <td>0.513</td>\n",
       "      <td>1.1</td>\n",
       "      <td>2.7</td>\n",
       "      <td>...</td>\n",
       "      <td>-4.8</td>\n",
       "      <td>1.6</td>\n",
       "      <td>120.7</td>\n",
       "      <td>85.8</td>\n",
       "      <td>25.1</td>\n",
       "      <td>4</td>\n",
       "      <td>225</td>\n",
       "      <td>18.4</td>\n",
       "      <td>83</td>\n",
       "      <td>88.0</td>\n",
       "    </tr>\n",
       "    <tr>\n",
       "      <th>4</th>\n",
       "      <td>Mohamed Bamba</td>\n",
       "      <td>C</td>\n",
       "      <td>Texas</td>\n",
       "      <td>30</td>\n",
       "      <td>30.2</td>\n",
       "      <td>4.9</td>\n",
       "      <td>9.0</td>\n",
       "      <td>0.541</td>\n",
       "      <td>0.5</td>\n",
       "      <td>1.7</td>\n",
       "      <td>...</td>\n",
       "      <td>-4.2</td>\n",
       "      <td>1.4</td>\n",
       "      <td>118.4</td>\n",
       "      <td>88.4</td>\n",
       "      <td>26.4</td>\n",
       "      <td>5</td>\n",
       "      <td>216</td>\n",
       "      <td>19.8</td>\n",
       "      <td>85</td>\n",
       "      <td>93.0</td>\n",
       "    </tr>\n",
       "  </tbody>\n",
       "</table>\n",
       "<p>5 rows × 41 columns</p>\n",
       "</div>"
      ],
      "text/plain": [
       "              Player   Pos  Pre-Draft Team  GP   MPG  FGM   FGA    FG%  3PM  \\\n",
       "0      Deandre Ayton     C         Arizona  35  33.5  7.9  12.9  0.612  0.3   \n",
       "1  Marvin Bagley III  PF/C            Duke  33  33.9  8.2  13.3  0.614  0.7   \n",
       "2        Luka Doncic    PG     Real Madrid  49  24.7  4.7  10.4  0.456  1.5   \n",
       "3  Jaren Jackson Jr.  PF/C  Michigan State  35  21.8  3.4   6.6  0.513  1.1   \n",
       "4      Mohamed Bamba     C           Texas  30  30.2  4.9   9.0  0.541  0.5   \n",
       "\n",
       "   3PA       ...         PPR  PPS   ORtg   DRtg   PER  Pick  Weight   Age  \\\n",
       "0  1.0       ...        -2.7  1.6  130.3   97.5  30.6     1     250  19.6   \n",
       "1  1.8       ...        -3.7  1.6  128.1   97.5  28.3     2     225  18.9   \n",
       "2  4.9       ...         4.2  1.5  124.2  106.2  25.4     3     220  19.0   \n",
       "3  2.7       ...        -4.8  1.6  120.7   85.8  25.1     4     225  18.4   \n",
       "4  1.7       ...        -4.2  1.4  118.4   88.4  26.4     5     216  19.8   \n",
       "\n",
       "   Heightw/shoesinches  Wingspan_inches  \n",
       "0                   85             89.0  \n",
       "1                   83             84.5  \n",
       "2                   80              NaN  \n",
       "3                   83             88.0  \n",
       "4                   85             93.0  \n",
       "\n",
       "[5 rows x 41 columns]"
      ]
     },
     "execution_count": 4869,
     "metadata": {},
     "output_type": "execute_result"
    }
   ],
   "source": [
    "prospects_df = pd.read_csv('/Users/dgrubis/Desktop/STATS 535/2018_prospects_predictions.csv')\n",
    "prospects_df.head()"
   ]
  },
  {
   "cell_type": "code",
   "execution_count": 4870,
   "metadata": {
    "collapsed": true
   },
   "outputs": [],
   "source": [
    "prospects_df['Wingspan_inches'] = prospects_df['Wingspan_inches'].fillna(prospects_df['Wingspan_inches'].mean())\n",
    "prospects_df['PER'] = prospects_df['PER'].fillna(prospects_df['PER'].mean())"
   ]
  },
  {
   "cell_type": "code",
   "execution_count": 4871,
   "metadata": {},
   "outputs": [
    {
     "data": {
      "text/html": [
       "<div>\n",
       "<style>\n",
       "    .dataframe thead tr:only-child th {\n",
       "        text-align: right;\n",
       "    }\n",
       "\n",
       "    .dataframe thead th {\n",
       "        text-align: left;\n",
       "    }\n",
       "\n",
       "    .dataframe tbody tr th {\n",
       "        vertical-align: top;\n",
       "    }\n",
       "</style>\n",
       "<table border=\"1\" class=\"dataframe\">\n",
       "  <thead>\n",
       "    <tr style=\"text-align: right;\">\n",
       "      <th></th>\n",
       "      <th>Player</th>\n",
       "      <th>Pos</th>\n",
       "      <th>Pre-Draft Team</th>\n",
       "      <th>GP</th>\n",
       "      <th>MPG</th>\n",
       "      <th>FGM</th>\n",
       "      <th>FGA</th>\n",
       "      <th>FG%</th>\n",
       "      <th>3PM</th>\n",
       "      <th>3PA</th>\n",
       "      <th>...</th>\n",
       "      <th>PPR</th>\n",
       "      <th>PPS</th>\n",
       "      <th>ORtg</th>\n",
       "      <th>DRtg</th>\n",
       "      <th>PER</th>\n",
       "      <th>Pick</th>\n",
       "      <th>Weight</th>\n",
       "      <th>Age</th>\n",
       "      <th>Heightw/shoesinches</th>\n",
       "      <th>Wingspan_inches</th>\n",
       "    </tr>\n",
       "  </thead>\n",
       "  <tbody>\n",
       "    <tr>\n",
       "      <th>0</th>\n",
       "      <td>Deandre Ayton</td>\n",
       "      <td>C</td>\n",
       "      <td>Arizona</td>\n",
       "      <td>35</td>\n",
       "      <td>33.5</td>\n",
       "      <td>7.9</td>\n",
       "      <td>12.9</td>\n",
       "      <td>0.612</td>\n",
       "      <td>0.3</td>\n",
       "      <td>1.0</td>\n",
       "      <td>...</td>\n",
       "      <td>-2.7</td>\n",
       "      <td>1.6</td>\n",
       "      <td>130.3</td>\n",
       "      <td>97.5</td>\n",
       "      <td>30.6</td>\n",
       "      <td>1</td>\n",
       "      <td>250</td>\n",
       "      <td>19.6</td>\n",
       "      <td>85</td>\n",
       "      <td>89.000000</td>\n",
       "    </tr>\n",
       "    <tr>\n",
       "      <th>1</th>\n",
       "      <td>Marvin Bagley III</td>\n",
       "      <td>PF/C</td>\n",
       "      <td>Duke</td>\n",
       "      <td>33</td>\n",
       "      <td>33.9</td>\n",
       "      <td>8.2</td>\n",
       "      <td>13.3</td>\n",
       "      <td>0.614</td>\n",
       "      <td>0.7</td>\n",
       "      <td>1.8</td>\n",
       "      <td>...</td>\n",
       "      <td>-3.7</td>\n",
       "      <td>1.6</td>\n",
       "      <td>128.1</td>\n",
       "      <td>97.5</td>\n",
       "      <td>28.3</td>\n",
       "      <td>2</td>\n",
       "      <td>225</td>\n",
       "      <td>18.9</td>\n",
       "      <td>83</td>\n",
       "      <td>84.500000</td>\n",
       "    </tr>\n",
       "    <tr>\n",
       "      <th>2</th>\n",
       "      <td>Luka Doncic</td>\n",
       "      <td>PG</td>\n",
       "      <td>Real Madrid</td>\n",
       "      <td>49</td>\n",
       "      <td>24.7</td>\n",
       "      <td>4.7</td>\n",
       "      <td>10.4</td>\n",
       "      <td>0.456</td>\n",
       "      <td>1.5</td>\n",
       "      <td>4.9</td>\n",
       "      <td>...</td>\n",
       "      <td>4.2</td>\n",
       "      <td>1.5</td>\n",
       "      <td>124.2</td>\n",
       "      <td>106.2</td>\n",
       "      <td>25.4</td>\n",
       "      <td>3</td>\n",
       "      <td>220</td>\n",
       "      <td>19.0</td>\n",
       "      <td>80</td>\n",
       "      <td>82.171687</td>\n",
       "    </tr>\n",
       "    <tr>\n",
       "      <th>3</th>\n",
       "      <td>Jaren Jackson Jr.</td>\n",
       "      <td>PF/C</td>\n",
       "      <td>Michigan State</td>\n",
       "      <td>35</td>\n",
       "      <td>21.8</td>\n",
       "      <td>3.4</td>\n",
       "      <td>6.6</td>\n",
       "      <td>0.513</td>\n",
       "      <td>1.1</td>\n",
       "      <td>2.7</td>\n",
       "      <td>...</td>\n",
       "      <td>-4.8</td>\n",
       "      <td>1.6</td>\n",
       "      <td>120.7</td>\n",
       "      <td>85.8</td>\n",
       "      <td>25.1</td>\n",
       "      <td>4</td>\n",
       "      <td>225</td>\n",
       "      <td>18.4</td>\n",
       "      <td>83</td>\n",
       "      <td>88.000000</td>\n",
       "    </tr>\n",
       "    <tr>\n",
       "      <th>4</th>\n",
       "      <td>Mohamed Bamba</td>\n",
       "      <td>C</td>\n",
       "      <td>Texas</td>\n",
       "      <td>30</td>\n",
       "      <td>30.2</td>\n",
       "      <td>4.9</td>\n",
       "      <td>9.0</td>\n",
       "      <td>0.541</td>\n",
       "      <td>0.5</td>\n",
       "      <td>1.7</td>\n",
       "      <td>...</td>\n",
       "      <td>-4.2</td>\n",
       "      <td>1.4</td>\n",
       "      <td>118.4</td>\n",
       "      <td>88.4</td>\n",
       "      <td>26.4</td>\n",
       "      <td>5</td>\n",
       "      <td>216</td>\n",
       "      <td>19.8</td>\n",
       "      <td>85</td>\n",
       "      <td>93.000000</td>\n",
       "    </tr>\n",
       "  </tbody>\n",
       "</table>\n",
       "<p>5 rows × 41 columns</p>\n",
       "</div>"
      ],
      "text/plain": [
       "              Player   Pos  Pre-Draft Team  GP   MPG  FGM   FGA    FG%  3PM  \\\n",
       "0      Deandre Ayton     C         Arizona  35  33.5  7.9  12.9  0.612  0.3   \n",
       "1  Marvin Bagley III  PF/C            Duke  33  33.9  8.2  13.3  0.614  0.7   \n",
       "2        Luka Doncic    PG     Real Madrid  49  24.7  4.7  10.4  0.456  1.5   \n",
       "3  Jaren Jackson Jr.  PF/C  Michigan State  35  21.8  3.4   6.6  0.513  1.1   \n",
       "4      Mohamed Bamba     C           Texas  30  30.2  4.9   9.0  0.541  0.5   \n",
       "\n",
       "   3PA       ...         PPR  PPS   ORtg   DRtg   PER  Pick  Weight   Age  \\\n",
       "0  1.0       ...        -2.7  1.6  130.3   97.5  30.6     1     250  19.6   \n",
       "1  1.8       ...        -3.7  1.6  128.1   97.5  28.3     2     225  18.9   \n",
       "2  4.9       ...         4.2  1.5  124.2  106.2  25.4     3     220  19.0   \n",
       "3  2.7       ...        -4.8  1.6  120.7   85.8  25.1     4     225  18.4   \n",
       "4  1.7       ...        -4.2  1.4  118.4   88.4  26.4     5     216  19.8   \n",
       "\n",
       "   Heightw/shoesinches  Wingspan_inches  \n",
       "0                   85        89.000000  \n",
       "1                   83        84.500000  \n",
       "2                   80        82.171687  \n",
       "3                   83        88.000000  \n",
       "4                   85        93.000000  \n",
       "\n",
       "[5 rows x 41 columns]"
      ]
     },
     "execution_count": 4871,
     "metadata": {},
     "output_type": "execute_result"
    }
   ],
   "source": [
    "prospects_df.head()"
   ]
  },
  {
   "cell_type": "code",
   "execution_count": 4872,
   "metadata": {},
   "outputs": [
    {
     "data": {
      "text/plain": [
       "array([[ 0.34227907,  0.46299834,  1.73280124, ..., -1.12725208,\n",
       "         2.0756191 ,  1.68978301],\n",
       "       [-0.31262312,  0.57360872,  1.97550331, ..., -1.65797609,\n",
       "         1.40223888,  0.52918857],\n",
       "       [ 4.92659435, -1.97042995, -0.85602091, ..., -1.58215837,\n",
       "         0.39216854, -0.07130641],\n",
       "       ..., \n",
       "       [ 0.66973016, -1.16850472, -0.53241814, ..., -0.06580406,\n",
       "         1.06554877,  1.43187313],\n",
       "       [ 1.32463234,  0.35238796, -0.77512021, ..., -0.06580406,\n",
       "        -0.61790179,  0.01336882],\n",
       "       [-0.9675253 , -1.83216698, -1.98863059, ..., -1.58215837,\n",
       "        -1.29128202, -2.69468487]])"
      ]
     },
     "execution_count": 4872,
     "metadata": {},
     "output_type": "execute_result"
    }
   ],
   "source": [
    "pro_features = prospects_df.drop(['Player', 'Pre-Draft Team', 'Pos'], 1)\n",
    "scaler.transform(pro_features)"
   ]
  },
  {
   "cell_type": "code",
   "execution_count": 4873,
   "metadata": {
    "collapsed": true
   },
   "outputs": [],
   "source": [
    "#Using the multi-layer perceptron neural network model to predict current prospects\n",
    "results = model_MLP.predict(pro_features)"
   ]
  },
  {
   "cell_type": "code",
   "execution_count": 4874,
   "metadata": {},
   "outputs": [
    {
     "data": {
      "text/plain": [
       "array([ 8.61326547,  9.47098788,  8.02854182,  8.96236168,  5.5211178 ,\n",
       "        1.97186021,  6.81855986,  8.76131627,  5.90350352,  6.38909849,\n",
       "        6.31061538,  4.84367193,  6.67659388,  4.82530504,  3.0197443 ,\n",
       "        4.14612233,  5.02212985,  6.84696635,  3.59550282,  3.34026233,\n",
       "        2.27294468,  5.17312982,  1.81311233,  3.76587826,  3.99155676,\n",
       "        3.05225671,  2.0398165 ,  2.56763901,  4.31563398,  5.18809154,\n",
       "        3.9114272 ,  3.87996626,  3.03942684,  0.97742034,  1.83064772,\n",
       "        1.63125455,  4.41935377,  2.77474394,  2.36293408, -0.04826553,\n",
       "        3.13788929,  2.64924557, -1.13836253,  1.98057267,  1.15603976,\n",
       "        1.55805869,  0.55895637,  0.72672949,  1.67431447,  2.9333349 ,\n",
       "       -0.89939061,  1.73232919,  1.36275301,  3.38551051,  2.10245961,\n",
       "       -2.14809767,  0.63694547,  0.9173577 ,  3.02287804,  1.44941957,\n",
       "       -3.14739196,  1.00412855,  0.53681329,  0.49091908,  0.50776757,\n",
       "       -1.28120229, -0.58169435,  3.93301877,  0.40421017, -0.54673848,\n",
       "        0.21204706,  1.3242835 , -2.62591824, -1.21520309, -1.31744825,\n",
       "       -2.32327663, -3.51479786,  1.60168727, -3.23936032, -3.0508086 ,\n",
       "        0.22434563, -2.42604031, -0.27343016, -0.51286583,  2.04469841,\n",
       "        1.07612518, -1.14414892,  0.96213434, -3.50883135, -1.10367259,\n",
       "        0.36098595, -1.22104069,  0.70954524, -1.19653388, -1.20517102,\n",
       "       -1.9577296 , -3.34251904, -2.92252852, -0.61064286, -2.3054726 ,\n",
       "        0.2440192 , -1.55010099, -2.13932169,  0.55326753, -1.42508428,\n",
       "       -0.66736554])"
      ]
     },
     "execution_count": 4874,
     "metadata": {},
     "output_type": "execute_result"
    }
   ],
   "source": [
    "results"
   ]
  },
  {
   "cell_type": "code",
   "execution_count": 4875,
   "metadata": {
    "collapsed": true
   },
   "outputs": [],
   "source": [
    "prospects_df['WS'] = results"
   ]
  },
  {
   "cell_type": "code",
   "execution_count": 4876,
   "metadata": {
    "collapsed": true
   },
   "outputs": [],
   "source": [
    "final_results = prospects_df[['Player', 'WS']]"
   ]
  },
  {
   "cell_type": "code",
   "execution_count": 4877,
   "metadata": {},
   "outputs": [
    {
     "data": {
      "text/html": [
       "<div>\n",
       "<style>\n",
       "    .dataframe thead tr:only-child th {\n",
       "        text-align: right;\n",
       "    }\n",
       "\n",
       "    .dataframe thead th {\n",
       "        text-align: left;\n",
       "    }\n",
       "\n",
       "    .dataframe tbody tr th {\n",
       "        vertical-align: top;\n",
       "    }\n",
       "</style>\n",
       "<table border=\"1\" class=\"dataframe\">\n",
       "  <thead>\n",
       "    <tr style=\"text-align: right;\">\n",
       "      <th></th>\n",
       "      <th>Player</th>\n",
       "      <th>WS</th>\n",
       "    </tr>\n",
       "  </thead>\n",
       "  <tbody>\n",
       "    <tr>\n",
       "      <th>0</th>\n",
       "      <td>Deandre Ayton</td>\n",
       "      <td>8.613265</td>\n",
       "    </tr>\n",
       "    <tr>\n",
       "      <th>1</th>\n",
       "      <td>Marvin Bagley III</td>\n",
       "      <td>9.470988</td>\n",
       "    </tr>\n",
       "    <tr>\n",
       "      <th>2</th>\n",
       "      <td>Luka Doncic</td>\n",
       "      <td>8.028542</td>\n",
       "    </tr>\n",
       "    <tr>\n",
       "      <th>3</th>\n",
       "      <td>Jaren Jackson Jr.</td>\n",
       "      <td>8.962362</td>\n",
       "    </tr>\n",
       "    <tr>\n",
       "      <th>4</th>\n",
       "      <td>Mohamed Bamba</td>\n",
       "      <td>5.521118</td>\n",
       "    </tr>\n",
       "    <tr>\n",
       "      <th>5</th>\n",
       "      <td>Michael Porter Jr.</td>\n",
       "      <td>1.971860</td>\n",
       "    </tr>\n",
       "    <tr>\n",
       "      <th>6</th>\n",
       "      <td>Mikal Bridges</td>\n",
       "      <td>6.818560</td>\n",
       "    </tr>\n",
       "    <tr>\n",
       "      <th>7</th>\n",
       "      <td>Wendell Carter Jr.</td>\n",
       "      <td>8.761316</td>\n",
       "    </tr>\n",
       "    <tr>\n",
       "      <th>8</th>\n",
       "      <td>Collin Sexton</td>\n",
       "      <td>5.903504</td>\n",
       "    </tr>\n",
       "    <tr>\n",
       "      <th>9</th>\n",
       "      <td>Miles Bridges</td>\n",
       "      <td>6.389098</td>\n",
       "    </tr>\n",
       "    <tr>\n",
       "      <th>10</th>\n",
       "      <td>Shai Gilgeous-Alexander</td>\n",
       "      <td>6.310615</td>\n",
       "    </tr>\n",
       "    <tr>\n",
       "      <th>11</th>\n",
       "      <td>Khyri Thomas</td>\n",
       "      <td>4.843672</td>\n",
       "    </tr>\n",
       "    <tr>\n",
       "      <th>12</th>\n",
       "      <td>Trae Young</td>\n",
       "      <td>6.676594</td>\n",
       "    </tr>\n",
       "    <tr>\n",
       "      <th>13</th>\n",
       "      <td>Kevin Knox</td>\n",
       "      <td>4.825305</td>\n",
       "    </tr>\n",
       "    <tr>\n",
       "      <th>14</th>\n",
       "      <td>Lonnie Walker IV</td>\n",
       "      <td>3.019744</td>\n",
       "    </tr>\n",
       "    <tr>\n",
       "      <th>15</th>\n",
       "      <td>Robert Williams</td>\n",
       "      <td>4.146122</td>\n",
       "    </tr>\n",
       "    <tr>\n",
       "      <th>16</th>\n",
       "      <td>Troy Brown</td>\n",
       "      <td>5.022130</td>\n",
       "    </tr>\n",
       "    <tr>\n",
       "      <th>17</th>\n",
       "      <td>Zhaire Smith</td>\n",
       "      <td>6.846966</td>\n",
       "    </tr>\n",
       "    <tr>\n",
       "      <th>18</th>\n",
       "      <td>Keita Bates-Diop</td>\n",
       "      <td>3.595503</td>\n",
       "    </tr>\n",
       "    <tr>\n",
       "      <th>19</th>\n",
       "      <td>De'Andre Hunter</td>\n",
       "      <td>3.340262</td>\n",
       "    </tr>\n",
       "    <tr>\n",
       "      <th>20</th>\n",
       "      <td>Chandler Hutchison</td>\n",
       "      <td>2.272945</td>\n",
       "    </tr>\n",
       "    <tr>\n",
       "      <th>21</th>\n",
       "      <td>De'Anthony Melton</td>\n",
       "      <td>5.173130</td>\n",
       "    </tr>\n",
       "    <tr>\n",
       "      <th>22</th>\n",
       "      <td>Dzanan Musa</td>\n",
       "      <td>1.813112</td>\n",
       "    </tr>\n",
       "    <tr>\n",
       "      <th>23</th>\n",
       "      <td>Aaron Holiday</td>\n",
       "      <td>3.765878</td>\n",
       "    </tr>\n",
       "    <tr>\n",
       "      <th>24</th>\n",
       "      <td>Brandon McCoy</td>\n",
       "      <td>3.991557</td>\n",
       "    </tr>\n",
       "    <tr>\n",
       "      <th>25</th>\n",
       "      <td>Tyus Battle</td>\n",
       "      <td>3.052257</td>\n",
       "    </tr>\n",
       "    <tr>\n",
       "      <th>26</th>\n",
       "      <td>Bruce Brown</td>\n",
       "      <td>2.039817</td>\n",
       "    </tr>\n",
       "    <tr>\n",
       "      <th>27</th>\n",
       "      <td>Malik Newman</td>\n",
       "      <td>2.567639</td>\n",
       "    </tr>\n",
       "    <tr>\n",
       "      <th>28</th>\n",
       "      <td>Tony Carr</td>\n",
       "      <td>4.315634</td>\n",
       "    </tr>\n",
       "    <tr>\n",
       "      <th>29</th>\n",
       "      <td>Gary Trent Jr.</td>\n",
       "      <td>5.188092</td>\n",
       "    </tr>\n",
       "    <tr>\n",
       "      <th>...</th>\n",
       "      <td>...</td>\n",
       "      <td>...</td>\n",
       "    </tr>\n",
       "    <tr>\n",
       "      <th>76</th>\n",
       "      <td>Arnoldas Kulboka</td>\n",
       "      <td>-3.514798</td>\n",
       "    </tr>\n",
       "    <tr>\n",
       "      <th>77</th>\n",
       "      <td>Tryggvi Hlinason</td>\n",
       "      <td>1.601687</td>\n",
       "    </tr>\n",
       "    <tr>\n",
       "      <th>78</th>\n",
       "      <td>MiKyle McIntosh</td>\n",
       "      <td>-3.239360</td>\n",
       "    </tr>\n",
       "    <tr>\n",
       "      <th>79</th>\n",
       "      <td>Amine Noua</td>\n",
       "      <td>-3.050809</td>\n",
       "    </tr>\n",
       "    <tr>\n",
       "      <th>80</th>\n",
       "      <td>Austin Wiley</td>\n",
       "      <td>0.224346</td>\n",
       "    </tr>\n",
       "    <tr>\n",
       "      <th>81</th>\n",
       "      <td>Ethan Happ</td>\n",
       "      <td>-2.426040</td>\n",
       "    </tr>\n",
       "    <tr>\n",
       "      <th>82</th>\n",
       "      <td>Allonzo Trier</td>\n",
       "      <td>-0.273430</td>\n",
       "    </tr>\n",
       "    <tr>\n",
       "      <th>83</th>\n",
       "      <td>Alize Johnson</td>\n",
       "      <td>-0.512866</td>\n",
       "    </tr>\n",
       "    <tr>\n",
       "      <th>84</th>\n",
       "      <td>Gary Clark</td>\n",
       "      <td>2.044698</td>\n",
       "    </tr>\n",
       "    <tr>\n",
       "      <th>85</th>\n",
       "      <td>Aric Holman</td>\n",
       "      <td>1.076125</td>\n",
       "    </tr>\n",
       "    <tr>\n",
       "      <th>86</th>\n",
       "      <td>Devon Hall</td>\n",
       "      <td>-1.144149</td>\n",
       "    </tr>\n",
       "    <tr>\n",
       "      <th>87</th>\n",
       "      <td>Bonzie Colson</td>\n",
       "      <td>0.962134</td>\n",
       "    </tr>\n",
       "    <tr>\n",
       "      <th>88</th>\n",
       "      <td>Billy Preston</td>\n",
       "      <td>-3.508831</td>\n",
       "    </tr>\n",
       "    <tr>\n",
       "      <th>89</th>\n",
       "      <td>Tadas Sedekerskis</td>\n",
       "      <td>-1.103673</td>\n",
       "    </tr>\n",
       "    <tr>\n",
       "      <th>90</th>\n",
       "      <td>Theo Pinson</td>\n",
       "      <td>0.360986</td>\n",
       "    </tr>\n",
       "    <tr>\n",
       "      <th>91</th>\n",
       "      <td>Lamar Peters</td>\n",
       "      <td>-1.221041</td>\n",
       "    </tr>\n",
       "    <tr>\n",
       "      <th>92</th>\n",
       "      <td>William McDowell-White</td>\n",
       "      <td>0.709545</td>\n",
       "    </tr>\n",
       "    <tr>\n",
       "      <th>93</th>\n",
       "      <td>Isaac Haas</td>\n",
       "      <td>-1.196534</td>\n",
       "    </tr>\n",
       "    <tr>\n",
       "      <th>94</th>\n",
       "      <td>Rob Gray</td>\n",
       "      <td>-1.205171</td>\n",
       "    </tr>\n",
       "    <tr>\n",
       "      <th>95</th>\n",
       "      <td>Maximo Fjellerup</td>\n",
       "      <td>-1.957730</td>\n",
       "    </tr>\n",
       "    <tr>\n",
       "      <th>96</th>\n",
       "      <td>Vanja Marinkovic</td>\n",
       "      <td>-3.342519</td>\n",
       "    </tr>\n",
       "    <tr>\n",
       "      <th>97</th>\n",
       "      <td>Jeffrey Carroll</td>\n",
       "      <td>-2.922529</td>\n",
       "    </tr>\n",
       "    <tr>\n",
       "      <th>98</th>\n",
       "      <td>Tyler Hall</td>\n",
       "      <td>-0.610643</td>\n",
       "    </tr>\n",
       "    <tr>\n",
       "      <th>99</th>\n",
       "      <td>Deng Adel</td>\n",
       "      <td>-2.305473</td>\n",
       "    </tr>\n",
       "    <tr>\n",
       "      <th>100</th>\n",
       "      <td>Andrew Jones</td>\n",
       "      <td>0.244019</td>\n",
       "    </tr>\n",
       "    <tr>\n",
       "      <th>101</th>\n",
       "      <td>Johnathan Williams</td>\n",
       "      <td>-1.550101</td>\n",
       "    </tr>\n",
       "    <tr>\n",
       "      <th>102</th>\n",
       "      <td>Malik Pope</td>\n",
       "      <td>-2.139322</td>\n",
       "    </tr>\n",
       "    <tr>\n",
       "      <th>103</th>\n",
       "      <td>Raymond Spalding</td>\n",
       "      <td>0.553268</td>\n",
       "    </tr>\n",
       "    <tr>\n",
       "      <th>104</th>\n",
       "      <td>Lagerald Vick</td>\n",
       "      <td>-1.425084</td>\n",
       "    </tr>\n",
       "    <tr>\n",
       "      <th>105</th>\n",
       "      <td>Jaylen Hands</td>\n",
       "      <td>-0.667366</td>\n",
       "    </tr>\n",
       "  </tbody>\n",
       "</table>\n",
       "<p>106 rows × 2 columns</p>\n",
       "</div>"
      ],
      "text/plain": [
       "                      Player        WS\n",
       "0              Deandre Ayton  8.613265\n",
       "1          Marvin Bagley III  9.470988\n",
       "2                Luka Doncic  8.028542\n",
       "3          Jaren Jackson Jr.  8.962362\n",
       "4              Mohamed Bamba  5.521118\n",
       "5         Michael Porter Jr.  1.971860\n",
       "6              Mikal Bridges  6.818560\n",
       "7         Wendell Carter Jr.  8.761316\n",
       "8              Collin Sexton  5.903504\n",
       "9              Miles Bridges  6.389098\n",
       "10   Shai Gilgeous-Alexander  6.310615\n",
       "11              Khyri Thomas  4.843672\n",
       "12                Trae Young  6.676594\n",
       "13                Kevin Knox  4.825305\n",
       "14          Lonnie Walker IV  3.019744\n",
       "15           Robert Williams  4.146122\n",
       "16                Troy Brown  5.022130\n",
       "17              Zhaire Smith  6.846966\n",
       "18          Keita Bates-Diop  3.595503\n",
       "19           De'Andre Hunter  3.340262\n",
       "20        Chandler Hutchison  2.272945\n",
       "21         De'Anthony Melton  5.173130\n",
       "22               Dzanan Musa  1.813112\n",
       "23             Aaron Holiday  3.765878\n",
       "24             Brandon McCoy  3.991557\n",
       "25               Tyus Battle  3.052257\n",
       "26               Bruce Brown  2.039817\n",
       "27              Malik Newman  2.567639\n",
       "28                 Tony Carr  4.315634\n",
       "29            Gary Trent Jr.  5.188092\n",
       "..                       ...       ...\n",
       "76          Arnoldas Kulboka -3.514798\n",
       "77          Tryggvi Hlinason  1.601687\n",
       "78           MiKyle McIntosh -3.239360\n",
       "79                Amine Noua -3.050809\n",
       "80              Austin Wiley  0.224346\n",
       "81                Ethan Happ -2.426040\n",
       "82             Allonzo Trier -0.273430\n",
       "83             Alize Johnson -0.512866\n",
       "84                Gary Clark  2.044698\n",
       "85               Aric Holman  1.076125\n",
       "86                Devon Hall -1.144149\n",
       "87             Bonzie Colson  0.962134\n",
       "88             Billy Preston -3.508831\n",
       "89         Tadas Sedekerskis -1.103673\n",
       "90               Theo Pinson  0.360986\n",
       "91              Lamar Peters -1.221041\n",
       "92    William McDowell-White  0.709545\n",
       "93                Isaac Haas -1.196534\n",
       "94                  Rob Gray -1.205171\n",
       "95          Maximo Fjellerup -1.957730\n",
       "96          Vanja Marinkovic -3.342519\n",
       "97           Jeffrey Carroll -2.922529\n",
       "98                Tyler Hall -0.610643\n",
       "99                 Deng Adel -2.305473\n",
       "100             Andrew Jones  0.244019\n",
       "101       Johnathan Williams -1.550101\n",
       "102               Malik Pope -2.139322\n",
       "103         Raymond Spalding  0.553268\n",
       "104            Lagerald Vick -1.425084\n",
       "105             Jaylen Hands -0.667366\n",
       "\n",
       "[106 rows x 2 columns]"
      ]
     },
     "execution_count": 4877,
     "metadata": {},
     "output_type": "execute_result"
    }
   ],
   "source": [
    "final_results"
   ]
  },
  {
   "cell_type": "code",
   "execution_count": 4879,
   "metadata": {
    "collapsed": true
   },
   "outputs": [],
   "source": [
    "#final_results.to_csv('/Users/dgrubis/Desktop/STATS 535/2018_WS.csv')"
   ]
  },
  {
   "cell_type": "code",
   "execution_count": null,
   "metadata": {
    "collapsed": true
   },
   "outputs": [],
   "source": []
  }
 ],
 "metadata": {
  "kernelspec": {
   "display_name": "Python 3",
   "language": "python",
   "name": "python3"
  },
  "language_info": {
   "codemirror_mode": {
    "name": "ipython",
    "version": 3
   },
   "file_extension": ".py",
   "mimetype": "text/x-python",
   "name": "python",
   "nbconvert_exporter": "python",
   "pygments_lexer": "ipython3",
   "version": "3.6.3"
  }
 },
 "nbformat": 4,
 "nbformat_minor": 2
}
